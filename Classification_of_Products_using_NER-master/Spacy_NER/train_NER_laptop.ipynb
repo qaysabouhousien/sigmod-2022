{
 "cells": [
  {
   "cell_type": "markdown",
   "metadata": {},
   "source": [
    "## Creating a Spacy NER Model for laptops\n",
    "\n",
    "The Brand, Model, Processor, RAM, OS, Disk, Dim are the entities we want to define."
   ]
  },
  {
   "cell_type": "code",
   "execution_count": 1,
   "metadata": {},
   "outputs": [],
   "source": [
    "##import libraries\n",
    "import pandas as pd\n",
    "import numpy as np\n",
    "import spacy\n",
    "import random\n",
    "import time"
   ]
  },
  {
   "cell_type": "markdown",
   "metadata": {},
   "source": [
    "### 1. Data\n"
   ]
  },
  {
   "cell_type": "code",
   "execution_count": 2,
   "metadata": {},
   "outputs": [
    {
     "data": {
      "text/html": [
       "<div>\n",
       "<style scoped>\n",
       "    .dataframe tbody tr th:only-of-type {\n",
       "        vertical-align: middle;\n",
       "    }\n",
       "\n",
       "    .dataframe tbody tr th {\n",
       "        vertical-align: top;\n",
       "    }\n",
       "\n",
       "    .dataframe thead th {\n",
       "        text-align: right;\n",
       "    }\n",
       "</style>\n",
       "<table border=\"1\" class=\"dataframe\">\n",
       "  <thead>\n",
       "    <tr style=\"text-align: right;\">\n",
       "      <th></th>\n",
       "      <th>Brand</th>\n",
       "      <th>Model</th>\n",
       "      <th>Processor</th>\n",
       "      <th>RAM</th>\n",
       "      <th>OS</th>\n",
       "      <th>Disk</th>\n",
       "      <th>Dim</th>\n",
       "      <th>Category</th>\n",
       "    </tr>\n",
       "  </thead>\n",
       "  <tbody>\n",
       "    <tr>\n",
       "      <th>0</th>\n",
       "      <td>Lenovo</td>\n",
       "      <td>Ideapad</td>\n",
       "      <td>Intel Core i3 Processor (7th Gen)</td>\n",
       "      <td>4 GB DDR4</td>\n",
       "      <td>64 bit Windows 10</td>\n",
       "      <td>1 TB HDD</td>\n",
       "      <td>39.62 cm (15.6 inch)</td>\n",
       "      <td>Laptop</td>\n",
       "    </tr>\n",
       "    <tr>\n",
       "      <th>1</th>\n",
       "      <td>Lenovo</td>\n",
       "      <td>Ideapad</td>\n",
       "      <td>Intel Core i3 Processor (7th Gen)</td>\n",
       "      <td>4 GB DDR4</td>\n",
       "      <td>64 bit Windows 10</td>\n",
       "      <td>1 TB HDD</td>\n",
       "      <td>39.62 cm (15.6 inch)</td>\n",
       "      <td>Laptop</td>\n",
       "    </tr>\n",
       "    <tr>\n",
       "      <th>2</th>\n",
       "      <td>HP</td>\n",
       "      <td>EliteBook</td>\n",
       "      <td>Intel Core i3 Processor (7th Gen)</td>\n",
       "      <td>8 GB DDR4</td>\n",
       "      <td>64 bit Windows 10</td>\n",
       "      <td>256 GB SSD</td>\n",
       "      <td>35.56 cm (14 inch)</td>\n",
       "      <td>Laptop</td>\n",
       "    </tr>\n",
       "    <tr>\n",
       "      <th>3</th>\n",
       "      <td>Dell</td>\n",
       "      <td>Vostro</td>\n",
       "      <td>Intel Core i3 Processor (8th Gen)</td>\n",
       "      <td>4 GB DDR4</td>\n",
       "      <td>Linux/Ubuntu</td>\n",
       "      <td>1 TB HDD</td>\n",
       "      <td>35.56 cm (14 inch)</td>\n",
       "      <td>Laptop</td>\n",
       "    </tr>\n",
       "    <tr>\n",
       "      <th>4</th>\n",
       "      <td>HP</td>\n",
       "      <td>Zbook</td>\n",
       "      <td>Intel Core i5 Processor (8th Gen)</td>\n",
       "      <td>8 GB DDR4</td>\n",
       "      <td>64 bit Windows 10</td>\n",
       "      <td>1 TB HDD</td>\n",
       "      <td>35.56 cm (14 inch)</td>\n",
       "      <td>Laptop</td>\n",
       "    </tr>\n",
       "    <tr>\n",
       "      <th>...</th>\n",
       "      <td>...</td>\n",
       "      <td>...</td>\n",
       "      <td>...</td>\n",
       "      <td>...</td>\n",
       "      <td>...</td>\n",
       "      <td>...</td>\n",
       "      <td>...</td>\n",
       "      <td>...</td>\n",
       "    </tr>\n",
       "    <tr>\n",
       "      <th>411</th>\n",
       "      <td>Lenovo</td>\n",
       "      <td>Ideapad</td>\n",
       "      <td>Intel Core i5 Processor (6th Gen)</td>\n",
       "      <td>4 GB DDR3</td>\n",
       "      <td>64 bit Windows 10</td>\n",
       "      <td>1 TB HDD</td>\n",
       "      <td>35.56 cm (14 inch)</td>\n",
       "      <td>Laptop</td>\n",
       "    </tr>\n",
       "    <tr>\n",
       "      <th>412</th>\n",
       "      <td>Lenovo</td>\n",
       "      <td>Ideapad</td>\n",
       "      <td>Intel Core i7 Processor (8th Gen)</td>\n",
       "      <td>8 GB DDR4</td>\n",
       "      <td>64 bit Windows 10</td>\n",
       "      <td>1 TB HDD</td>\n",
       "      <td>39.62 cm (15.6 inch)</td>\n",
       "      <td>Laptop</td>\n",
       "    </tr>\n",
       "    <tr>\n",
       "      <th>413</th>\n",
       "      <td>Lenovo</td>\n",
       "      <td>Ideapad</td>\n",
       "      <td>AMD APU Quad Core A6 Processor</td>\n",
       "      <td>4 GB DDR3</td>\n",
       "      <td>64 bit Windows 10</td>\n",
       "      <td>1 TB HDD</td>\n",
       "      <td>39.62 cm (15.6 inch)</td>\n",
       "      <td>Laptop</td>\n",
       "    </tr>\n",
       "    <tr>\n",
       "      <th>414</th>\n",
       "      <td>Lenovo</td>\n",
       "      <td>Legion</td>\n",
       "      <td>Intel Pentium Quad Core Processor (4th Gen)</td>\n",
       "      <td>4 GB DDR3</td>\n",
       "      <td>D</td>\n",
       "      <td>500 GB HDD</td>\n",
       "      <td>39.62 cm (15.6 inch)</td>\n",
       "      <td>Laptop</td>\n",
       "    </tr>\n",
       "    <tr>\n",
       "      <th>415</th>\n",
       "      <td>Lenovo</td>\n",
       "      <td>Ideapad</td>\n",
       "      <td>Intel Core i3 Processor (7th Gen)</td>\n",
       "      <td>4 GB DDR4</td>\n",
       "      <td>D</td>\n",
       "      <td>1 TB HDD</td>\n",
       "      <td>39.62 cm (15.6 inch)</td>\n",
       "      <td>Laptop</td>\n",
       "    </tr>\n",
       "  </tbody>\n",
       "</table>\n",
       "<p>416 rows × 8 columns</p>\n",
       "</div>"
      ],
      "text/plain": [
       "      Brand      Model                                    Processor  \\\n",
       "0    Lenovo    Ideapad            Intel Core i3 Processor (7th Gen)   \n",
       "1    Lenovo    Ideapad            Intel Core i3 Processor (7th Gen)   \n",
       "2        HP  EliteBook            Intel Core i3 Processor (7th Gen)   \n",
       "3      Dell     Vostro            Intel Core i3 Processor (8th Gen)   \n",
       "4        HP      Zbook            Intel Core i5 Processor (8th Gen)   \n",
       "..      ...        ...                                          ...   \n",
       "411  Lenovo    Ideapad            Intel Core i5 Processor (6th Gen)   \n",
       "412  Lenovo    Ideapad            Intel Core i7 Processor (8th Gen)   \n",
       "413  Lenovo    Ideapad               AMD APU Quad Core A6 Processor   \n",
       "414  Lenovo     Legion  Intel Pentium Quad Core Processor (4th Gen)   \n",
       "415  Lenovo    Ideapad            Intel Core i3 Processor (7th Gen)   \n",
       "\n",
       "            RAM                 OS        Disk                    Dim Category  \n",
       "0    4 GB DDR4   64 bit Windows 10    1 TB HDD  39.62 cm (15.6 inch)    Laptop  \n",
       "1    4 GB DDR4   64 bit Windows 10    1 TB HDD  39.62 cm (15.6 inch)    Laptop  \n",
       "2    8 GB DDR4   64 bit Windows 10  256 GB SSD    35.56 cm (14 inch)    Laptop  \n",
       "3    4 GB DDR4        Linux/Ubuntu    1 TB HDD    35.56 cm (14 inch)    Laptop  \n",
       "4    8 GB DDR4   64 bit Windows 10    1 TB HDD    35.56 cm (14 inch)    Laptop  \n",
       "..          ...                ...         ...                    ...      ...  \n",
       "411  4 GB DDR3   64 bit Windows 10    1 TB HDD    35.56 cm (14 inch)    Laptop  \n",
       "412  8 GB DDR4   64 bit Windows 10    1 TB HDD  39.62 cm (15.6 inch)    Laptop  \n",
       "413  4 GB DDR3   64 bit Windows 10    1 TB HDD  39.62 cm (15.6 inch)    Laptop  \n",
       "414  4 GB DDR3                   D  500 GB HDD  39.62 cm (15.6 inch)    Laptop  \n",
       "415  4 GB DDR4                   D    1 TB HDD  39.62 cm (15.6 inch)    Laptop  \n",
       "\n",
       "[416 rows x 8 columns]"
      ]
     },
     "execution_count": 2,
     "metadata": {},
     "output_type": "execute_result"
    }
   ],
   "source": [
    "## loading data with the columns names as entities\n",
    "data = pd.read_csv(\"catalogue/laptop.csv\",index_col=None)\n",
    "data"
   ]
  },
  {
   "cell_type": "markdown",
   "metadata": {},
   "source": [
    "### 2. Pre-processing\n",
    "\n",
    "The input data has to be in a particular format.\n",
    "\n",
    "Steps:\n",
    "1. Create a phrase with jumbled entities and the annotations for each entity.\n",
    "2. Convert into json file with the content (phrase above) and the corresponding entities.\n",
    "3. The json file is converted into a list.\n"
   ]
  },
  {
   "cell_type": "markdown",
   "metadata": {},
   "source": [
    "####  a. Creating content for the laptops"
   ]
  },
  {
   "cell_type": "code",
   "execution_count": 3,
   "metadata": {},
   "outputs": [
    {
     "data": {
      "text/plain": [
       "Index(['Brand', 'Model', 'Processor', 'RAM', 'OS', 'Disk', 'Dim', 'Category'], dtype='object')"
      ]
     },
     "execution_count": 3,
     "metadata": {},
     "output_type": "execute_result"
    }
   ],
   "source": [
    "## the entities\n",
    "cols = data.columns\n",
    "cols"
   ]
  },
  {
   "cell_type": "code",
   "execution_count": 4,
   "metadata": {},
   "outputs": [
    {
     "data": {
      "text/plain": [
       "[0, 1, 2, 3, 4, 5, 6, 7]"
      ]
     },
     "execution_count": 4,
     "metadata": {},
     "output_type": "execute_result"
    }
   ],
   "source": [
    "## number of entities\n",
    "num_ent = len(data.columns)\n",
    "ent_list = list(np.arange(num_ent))\n",
    "ent_list"
   ]
  },
  {
   "cell_type": "code",
   "execution_count": 5,
   "metadata": {},
   "outputs": [
    {
     "data": {
      "text/plain": [
       "'Intel Core i3 Processor (7th Gen)'"
      ]
     },
     "execution_count": 5,
     "metadata": {},
     "output_type": "execute_result"
    }
   ],
   "source": [
    "# sample of an entity\n",
    "data.iloc[0,2]"
   ]
  },
  {
   "cell_type": "code",
   "execution_count": 6,
   "metadata": {},
   "outputs": [],
   "source": [
    "## jumble indices of entities to create a phrase\n",
    "prod_name = [] # list of all product names\n",
    "prod_ann = [] # list of all the annotations\n",
    "for i in range(len(data)): # loop for each laptop\n",
    "    idx_list = random.sample(ent_list,num_ent) # shuffling indices\n",
    "    cont = []\n",
    "    ann = []\n",
    "    ann_idx = 0 # pointer for annotating \n",
    "    for j in range(num_ent): # creating the jumbled product name\n",
    "        col_num = idx_list[j] # column number according jumbled column index\n",
    "        val = data.iloc[i,col_num] # value of the entity \n",
    "        cont.append(val) # appending list of entities into a single list\n",
    "        ann.append((ann_idx, len(val)+ ann_idx, cols[col_num])) # annotations and entity name\n",
    "        ann_idx = ann_idx + len(val) + 1 # updating the annotation pointer\n",
    "        \n",
    "    prod_name.append( ' '.join(cont)) # complete phrase for each laptop\n",
    "    prod_ann.append(ann) \n",
    "\n",
    "\n",
    "    "
   ]
  },
  {
   "cell_type": "code",
   "execution_count": 7,
   "metadata": {},
   "outputs": [
    {
     "data": {
      "text/plain": [
       "'Intel Core i5 Processor (10th Gen) Modern 512 GB SSD Laptop 8 GB DDR4  MSI 35.56 cm (14 inch)  64 bit Windows 10'"
      ]
     },
     "execution_count": 7,
     "metadata": {},
     "output_type": "execute_result"
    }
   ],
   "source": [
    "## Example\n",
    "## This is the content\n",
    "sample_prod_name = prod_name[8]\n",
    "sample_prod_name"
   ]
  },
  {
   "cell_type": "code",
   "execution_count": 8,
   "metadata": {},
   "outputs": [
    {
     "data": {
      "text/plain": [
       "[(0, 34, 'Processor'),\n",
       " (35, 41, 'Model'),\n",
       " (42, 52, 'Disk'),\n",
       " (53, 59, 'Category'),\n",
       " (60, 70, 'RAM'),\n",
       " (71, 74, 'Brand'),\n",
       " (75, 94, 'Dim'),\n",
       " (95, 112, 'OS')]"
      ]
     },
     "execution_count": 8,
     "metadata": {},
     "output_type": "execute_result"
    }
   ],
   "source": [
    "## entities in it with their annotations\n",
    "sample_prod_ent = prod_ann[8]\n",
    "sample_prod_ent"
   ]
  },
  {
   "cell_type": "code",
   "execution_count": 9,
   "metadata": {},
   "outputs": [
    {
     "name": "stdout",
     "output_type": "stream",
     "text": [
      "OS : 64 bit Windows 10\n"
     ]
    }
   ],
   "source": [
    "## take an entity in the prod \n",
    "st_id = sample_prod_ent[7][0]\n",
    "end_id = sample_prod_ent[7][1]\n",
    "ent = sample_prod_ent[7][2]\n",
    "print(ent,':', sample_prod_name[st_id : end_id])\n"
   ]
  },
  {
   "cell_type": "code",
   "execution_count": 10,
   "metadata": {},
   "outputs": [
    {
     "data": {
      "text/plain": [
       "['1 TB HDD Zbook Intel Core i5 Processor (8th Gen) Laptop 8 GB DDR4  HP 35.56 cm (14 inch)  64 bit Windows 10',\n",
       " [(0, 8, 'Disk'),\n",
       "  (9, 14, 'Model'),\n",
       "  (15, 48, 'Processor'),\n",
       "  (49, 55, 'Category'),\n",
       "  (56, 66, 'RAM'),\n",
       "  (67, 69, 'Brand'),\n",
       "  (70, 89, 'Dim'),\n",
       "  (90, 107, 'OS')]]"
      ]
     },
     "execution_count": 10,
     "metadata": {},
     "output_type": "execute_result"
    }
   ],
   "source": [
    "prod =[]\n",
    "for i in range(len(data)):\n",
    "    prod.append([prod_name[i], prod_ann[i]])\n",
    "\n",
    "prod[4]"
   ]
  },
  {
   "cell_type": "code",
   "execution_count": 11,
   "metadata": {},
   "outputs": [
    {
     "data": {
      "text/html": [
       "<div>\n",
       "<style scoped>\n",
       "    .dataframe tbody tr th:only-of-type {\n",
       "        vertical-align: middle;\n",
       "    }\n",
       "\n",
       "    .dataframe tbody tr th {\n",
       "        vertical-align: top;\n",
       "    }\n",
       "\n",
       "    .dataframe thead th {\n",
       "        text-align: right;\n",
       "    }\n",
       "</style>\n",
       "<table border=\"1\" class=\"dataframe\">\n",
       "  <thead>\n",
       "    <tr style=\"text-align: right;\">\n",
       "      <th></th>\n",
       "      <th>ProdName</th>\n",
       "      <th>Annotations</th>\n",
       "    </tr>\n",
       "  </thead>\n",
       "  <tbody>\n",
       "    <tr>\n",
       "      <th>0</th>\n",
       "      <td>4 GB DDR4  64 bit Windows 10 Ideapad 1 TB HDD ...</td>\n",
       "      <td>[(0, 10, RAM), (11, 28, OS), (29, 36, Model), ...</td>\n",
       "    </tr>\n",
       "    <tr>\n",
       "      <th>1</th>\n",
       "      <td>4 GB DDR4  Ideapad Lenovo Intel Core i3 Proces...</td>\n",
       "      <td>[(0, 10, RAM), (11, 18, Model), (19, 25, Brand...</td>\n",
       "    </tr>\n",
       "    <tr>\n",
       "      <th>2</th>\n",
       "      <td>256 GB SSD 35.56 cm (14 inch)  Laptop EliteBoo...</td>\n",
       "      <td>[(0, 10, Disk), (11, 30, Dim), (31, 37, Catego...</td>\n",
       "    </tr>\n",
       "    <tr>\n",
       "      <th>3</th>\n",
       "      <td>Vostro Linux/Ubuntu Laptop Intel Core i3 Proce...</td>\n",
       "      <td>[(0, 6, Model), (7, 19, OS), (20, 26, Category...</td>\n",
       "    </tr>\n",
       "    <tr>\n",
       "      <th>4</th>\n",
       "      <td>1 TB HDD Zbook Intel Core i5 Processor (8th Ge...</td>\n",
       "      <td>[(0, 8, Disk), (9, 14, Model), (15, 48, Proces...</td>\n",
       "    </tr>\n",
       "  </tbody>\n",
       "</table>\n",
       "</div>"
      ],
      "text/plain": [
       "                                            ProdName  \\\n",
       "0  4 GB DDR4  64 bit Windows 10 Ideapad 1 TB HDD ...   \n",
       "1  4 GB DDR4  Ideapad Lenovo Intel Core i3 Proces...   \n",
       "2  256 GB SSD 35.56 cm (14 inch)  Laptop EliteBoo...   \n",
       "3  Vostro Linux/Ubuntu Laptop Intel Core i3 Proce...   \n",
       "4  1 TB HDD Zbook Intel Core i5 Processor (8th Ge...   \n",
       "\n",
       "                                         Annotations  \n",
       "0  [(0, 10, RAM), (11, 28, OS), (29, 36, Model), ...  \n",
       "1  [(0, 10, RAM), (11, 18, Model), (19, 25, Brand...  \n",
       "2  [(0, 10, Disk), (11, 30, Dim), (31, 37, Catego...  \n",
       "3  [(0, 6, Model), (7, 19, OS), (20, 26, Category...  \n",
       "4  [(0, 8, Disk), (9, 14, Model), (15, 48, Proces...  "
      ]
     },
     "execution_count": 11,
     "metadata": {},
     "output_type": "execute_result"
    }
   ],
   "source": [
    "## creating a dataframe with product names and annotations\n",
    "prod_data = pd.DataFrame(prod, columns = ['ProdName','Annotations'])\n",
    "prod_data.head()"
   ]
  },
  {
   "cell_type": "code",
   "execution_count": 12,
   "metadata": {},
   "outputs": [],
   "source": [
    "# converting into csv file\n",
    "prod_data.to_csv('laptop_prodNames.csv', index= None)"
   ]
  },
  {
   "cell_type": "markdown",
   "metadata": {},
   "source": [
    "#### b. Creating json file"
   ]
  },
  {
   "cell_type": "code",
   "execution_count": 13,
   "metadata": {},
   "outputs": [],
   "source": [
    "# converting into json format\n",
    "import csv\n",
    "import json\n",
    "\n",
    "csvfile = open('laptop_prodNames.csv', 'r')\n",
    "jsonfile = open('laptop_prodNames.json', 'w')\n",
    "\n",
    "fieldnames = ('ProdName', 'Annotations')\n",
    "reader = csv.DictReader( csvfile, fieldnames)\n",
    "\n",
    "for row in reader:\n",
    "    json.dump(row, jsonfile)\n",
    "    jsonfile.write('\\n')"
   ]
  },
  {
   "cell_type": "markdown",
   "metadata": {},
   "source": [
    "#### c. json to list (spacy format)"
   ]
  },
  {
   "cell_type": "code",
   "execution_count": 14,
   "metadata": {},
   "outputs": [],
   "source": [
    "## function to convert json file into spacy traning data format\n",
    "def convert_to_spacytrain(json_file):\n",
    "    training_data = []\n",
    "    lines=[]\n",
    "    with open(json_file, 'r') as f:\n",
    "        lines = f.readlines() # this has 416 lines\n",
    "        \n",
    "    for line in lines[1:400]: # loop for every product\n",
    "        data = json.loads(line) # single row\n",
    "        text = data['ProdName'] #this is complete phrase\n",
    "        entities = data['Annotations']\n",
    "        training_data.append((text, {\"entities\" : eval(entities)}))\n",
    "        \n",
    "    return training_data\n",
    "    \n",
    "    "
   ]
  },
  {
   "cell_type": "code",
   "execution_count": 15,
   "metadata": {},
   "outputs": [
    {
     "ename": "JSONDecodeError",
     "evalue": "Expecting value: line 1 column 14 (char 13)",
     "output_type": "error",
     "traceback": [
      "\u001b[1;31m---------------------------------------------------------------------------\u001b[0m",
      "\u001b[1;31mJSONDecodeError\u001b[0m                           Traceback (most recent call last)",
      "\u001b[1;32m~\\AppData\\Local\\Temp/ipykernel_1560/1319568378.py\u001b[0m in \u001b[0;36m<module>\u001b[1;34m\u001b[0m\n\u001b[1;32m----> 1\u001b[1;33m \u001b[0mtrain_data\u001b[0m \u001b[1;33m=\u001b[0m \u001b[0mconvert_to_spacytrain\u001b[0m\u001b[1;33m(\u001b[0m\u001b[1;34m'laptop_prodNames.json'\u001b[0m\u001b[1;33m)\u001b[0m\u001b[1;33m\u001b[0m\u001b[1;33m\u001b[0m\u001b[0m\n\u001b[0m\u001b[0;32m      2\u001b[0m \u001b[0mtrain_data\u001b[0m\u001b[1;33m\u001b[0m\u001b[1;33m\u001b[0m\u001b[0m\n",
      "\u001b[1;32m~\\AppData\\Local\\Temp/ipykernel_1560/827168217.py\u001b[0m in \u001b[0;36mconvert_to_spacytrain\u001b[1;34m(json_file)\u001b[0m\n\u001b[0;32m      7\u001b[0m \u001b[1;33m\u001b[0m\u001b[0m\n\u001b[0;32m      8\u001b[0m     \u001b[1;32mfor\u001b[0m \u001b[0mline\u001b[0m \u001b[1;32min\u001b[0m \u001b[0mlines\u001b[0m\u001b[1;33m[\u001b[0m\u001b[1;36m1\u001b[0m\u001b[1;33m:\u001b[0m\u001b[1;36m400\u001b[0m\u001b[1;33m]\u001b[0m\u001b[1;33m:\u001b[0m \u001b[1;31m# loop for every product\u001b[0m\u001b[1;33m\u001b[0m\u001b[1;33m\u001b[0m\u001b[0m\n\u001b[1;32m----> 9\u001b[1;33m         \u001b[0mdata\u001b[0m \u001b[1;33m=\u001b[0m \u001b[0mjson\u001b[0m\u001b[1;33m.\u001b[0m\u001b[0mloads\u001b[0m\u001b[1;33m(\u001b[0m\u001b[0mline\u001b[0m\u001b[1;33m)\u001b[0m \u001b[1;31m# single row\u001b[0m\u001b[1;33m\u001b[0m\u001b[1;33m\u001b[0m\u001b[0m\n\u001b[0m\u001b[0;32m     10\u001b[0m         \u001b[0mtext\u001b[0m \u001b[1;33m=\u001b[0m \u001b[0mdata\u001b[0m\u001b[1;33m[\u001b[0m\u001b[1;34m'ProdName'\u001b[0m\u001b[1;33m]\u001b[0m \u001b[1;31m#this is complete phrase\u001b[0m\u001b[1;33m\u001b[0m\u001b[1;33m\u001b[0m\u001b[0m\n\u001b[0;32m     11\u001b[0m         \u001b[0mentities\u001b[0m \u001b[1;33m=\u001b[0m \u001b[0mdata\u001b[0m\u001b[1;33m[\u001b[0m\u001b[1;34m'Annotations'\u001b[0m\u001b[1;33m]\u001b[0m\u001b[1;33m\u001b[0m\u001b[1;33m\u001b[0m\u001b[0m\n",
      "\u001b[1;32m~\\AppData\\Local\\Programs\\Python\\Python39\\lib\\json\\__init__.py\u001b[0m in \u001b[0;36mloads\u001b[1;34m(s, cls, object_hook, parse_float, parse_int, parse_constant, object_pairs_hook, **kw)\u001b[0m\n\u001b[0;32m    344\u001b[0m             \u001b[0mparse_int\u001b[0m \u001b[1;32mis\u001b[0m \u001b[1;32mNone\u001b[0m \u001b[1;32mand\u001b[0m \u001b[0mparse_float\u001b[0m \u001b[1;32mis\u001b[0m \u001b[1;32mNone\u001b[0m \u001b[1;32mand\u001b[0m\u001b[1;33m\u001b[0m\u001b[1;33m\u001b[0m\u001b[0m\n\u001b[0;32m    345\u001b[0m             parse_constant is None and object_pairs_hook is None and not kw):\n\u001b[1;32m--> 346\u001b[1;33m         \u001b[1;32mreturn\u001b[0m \u001b[0m_default_decoder\u001b[0m\u001b[1;33m.\u001b[0m\u001b[0mdecode\u001b[0m\u001b[1;33m(\u001b[0m\u001b[0ms\u001b[0m\u001b[1;33m)\u001b[0m\u001b[1;33m\u001b[0m\u001b[1;33m\u001b[0m\u001b[0m\n\u001b[0m\u001b[0;32m    347\u001b[0m     \u001b[1;32mif\u001b[0m \u001b[0mcls\u001b[0m \u001b[1;32mis\u001b[0m \u001b[1;32mNone\u001b[0m\u001b[1;33m:\u001b[0m\u001b[1;33m\u001b[0m\u001b[1;33m\u001b[0m\u001b[0m\n\u001b[0;32m    348\u001b[0m         \u001b[0mcls\u001b[0m \u001b[1;33m=\u001b[0m \u001b[0mJSONDecoder\u001b[0m\u001b[1;33m\u001b[0m\u001b[1;33m\u001b[0m\u001b[0m\n",
      "\u001b[1;32m~\\AppData\\Local\\Programs\\Python\\Python39\\lib\\json\\decoder.py\u001b[0m in \u001b[0;36mdecode\u001b[1;34m(self, s, _w)\u001b[0m\n\u001b[0;32m    335\u001b[0m \u001b[1;33m\u001b[0m\u001b[0m\n\u001b[0;32m    336\u001b[0m         \"\"\"\n\u001b[1;32m--> 337\u001b[1;33m         \u001b[0mobj\u001b[0m\u001b[1;33m,\u001b[0m \u001b[0mend\u001b[0m \u001b[1;33m=\u001b[0m \u001b[0mself\u001b[0m\u001b[1;33m.\u001b[0m\u001b[0mraw_decode\u001b[0m\u001b[1;33m(\u001b[0m\u001b[0ms\u001b[0m\u001b[1;33m,\u001b[0m \u001b[0midx\u001b[0m\u001b[1;33m=\u001b[0m\u001b[0m_w\u001b[0m\u001b[1;33m(\u001b[0m\u001b[0ms\u001b[0m\u001b[1;33m,\u001b[0m \u001b[1;36m0\u001b[0m\u001b[1;33m)\u001b[0m\u001b[1;33m.\u001b[0m\u001b[0mend\u001b[0m\u001b[1;33m(\u001b[0m\u001b[1;33m)\u001b[0m\u001b[1;33m)\u001b[0m\u001b[1;33m\u001b[0m\u001b[1;33m\u001b[0m\u001b[0m\n\u001b[0m\u001b[0;32m    338\u001b[0m         \u001b[0mend\u001b[0m \u001b[1;33m=\u001b[0m \u001b[0m_w\u001b[0m\u001b[1;33m(\u001b[0m\u001b[0ms\u001b[0m\u001b[1;33m,\u001b[0m \u001b[0mend\u001b[0m\u001b[1;33m)\u001b[0m\u001b[1;33m.\u001b[0m\u001b[0mend\u001b[0m\u001b[1;33m(\u001b[0m\u001b[1;33m)\u001b[0m\u001b[1;33m\u001b[0m\u001b[1;33m\u001b[0m\u001b[0m\n\u001b[0;32m    339\u001b[0m         \u001b[1;32mif\u001b[0m \u001b[0mend\u001b[0m \u001b[1;33m!=\u001b[0m \u001b[0mlen\u001b[0m\u001b[1;33m(\u001b[0m\u001b[0ms\u001b[0m\u001b[1;33m)\u001b[0m\u001b[1;33m:\u001b[0m\u001b[1;33m\u001b[0m\u001b[1;33m\u001b[0m\u001b[0m\n",
      "\u001b[1;32m~\\AppData\\Local\\Programs\\Python\\Python39\\lib\\json\\decoder.py\u001b[0m in \u001b[0;36mraw_decode\u001b[1;34m(self, s, idx)\u001b[0m\n\u001b[0;32m    353\u001b[0m             \u001b[0mobj\u001b[0m\u001b[1;33m,\u001b[0m \u001b[0mend\u001b[0m \u001b[1;33m=\u001b[0m \u001b[0mself\u001b[0m\u001b[1;33m.\u001b[0m\u001b[0mscan_once\u001b[0m\u001b[1;33m(\u001b[0m\u001b[0ms\u001b[0m\u001b[1;33m,\u001b[0m \u001b[0midx\u001b[0m\u001b[1;33m)\u001b[0m\u001b[1;33m\u001b[0m\u001b[1;33m\u001b[0m\u001b[0m\n\u001b[0;32m    354\u001b[0m         \u001b[1;32mexcept\u001b[0m \u001b[0mStopIteration\u001b[0m \u001b[1;32mas\u001b[0m \u001b[0merr\u001b[0m\u001b[1;33m:\u001b[0m\u001b[1;33m\u001b[0m\u001b[1;33m\u001b[0m\u001b[0m\n\u001b[1;32m--> 355\u001b[1;33m             \u001b[1;32mraise\u001b[0m \u001b[0mJSONDecodeError\u001b[0m\u001b[1;33m(\u001b[0m\u001b[1;34m\"Expecting value\"\u001b[0m\u001b[1;33m,\u001b[0m \u001b[0ms\u001b[0m\u001b[1;33m,\u001b[0m \u001b[0merr\u001b[0m\u001b[1;33m.\u001b[0m\u001b[0mvalue\u001b[0m\u001b[1;33m)\u001b[0m \u001b[1;32mfrom\u001b[0m \u001b[1;32mNone\u001b[0m\u001b[1;33m\u001b[0m\u001b[1;33m\u001b[0m\u001b[0m\n\u001b[0m\u001b[0;32m    356\u001b[0m         \u001b[1;32mreturn\u001b[0m \u001b[0mobj\u001b[0m\u001b[1;33m,\u001b[0m \u001b[0mend\u001b[0m\u001b[1;33m\u001b[0m\u001b[1;33m\u001b[0m\u001b[0m\n",
      "\u001b[1;31mJSONDecodeError\u001b[0m: Expecting value: line 1 column 14 (char 13)"
     ]
    }
   ],
   "source": [
    "train_data = convert_to_spacytrain('laptop_prodNames.json')\n",
    "train_data"
   ]
  },
  {
   "cell_type": "markdown",
   "metadata": {},
   "source": [
    "### 3. Training NER model"
   ]
  },
  {
   "cell_type": "code",
   "execution_count": 33,
   "metadata": {},
   "outputs": [],
   "source": [
    "from spacy.training.example import Example\n",
    "def train_spacy(data,iterations):\n",
    "    \n",
    "    TRAIN_DATA = data\n",
    "    nlp = spacy.blank('en')  # create blank Language class\n",
    "    \n",
    "    # create the built-in pipeline components and add them to the pipeline\n",
    "    # nlp.create_pipe works for built-ins that are registered with spaCy\n",
    "    if 'ner' not in nlp.pipe_names:\n",
    "        # ner = nlp.create_pipe()\n",
    "        ner = nlp.add_pipe('ner', last=True)\n",
    "       \n",
    "\n",
    "    # add labels\n",
    "    for _, annotations in TRAIN_DATA:\n",
    "         for ent in annotations.get('entities'):\n",
    "                ner.add_label(ent[2])\n",
    "\n",
    "    # get names of other pipes to disable them during training\n",
    "    other_pipes = [pipe for pipe in nlp.pipe_names if pipe != 'ner']\n",
    "    \n",
    "    with nlp.disable_pipes(*other_pipes):  # only train NER\n",
    "        optimizer = nlp.begin_training()\n",
    "        for itn in range(iterations):\n",
    "            print(\"Starting iteration \" + str(itn))\n",
    "            random.shuffle(TRAIN_DATA)\n",
    "            losses = {}\n",
    "            for text, annotations in TRAIN_DATA:\n",
    "                #print(text, annotations)\n",
    "                doc = nlp.make_doc(text)\n",
    "                example = Example.from_dict(doc, annotations)\n",
    "                nlp.update([example],  # batch of annotations\n",
    "                    drop=0.2,  # dropout - make it harder to memorise data\n",
    "                    sgd=optimizer,  # callable to update weights\n",
    "                    losses=losses)\n",
    "                \n",
    "            if (losses['ner'] <100):\n",
    "                    break\n",
    "            print(losses)\n",
    "    return nlp"
   ]
  },
  {
   "cell_type": "code",
   "execution_count": null,
   "metadata": {},
   "outputs": [],
   "source": [
    "# can plot losses and choose best model\n",
    "print(train_data)"
   ]
  },
  {
   "cell_type": "code",
   "execution_count": 34,
   "metadata": {},
   "outputs": [
    {
     "name": "stdout",
     "output_type": "stream",
     "text": [
      "{'ner': 122.29532516133688}\n",
      "Starting iteration 2\n",
      "Wall time: 1min 8s\n"
     ]
    }
   ],
   "source": [
    "%%time\n",
    "prdnlp = train_spacy(train_data,10)"
   ]
  },
  {
   "cell_type": "code",
   "execution_count": 35,
   "metadata": {},
   "outputs": [
    {
     "name": "stdout",
     "output_type": "stream",
     "text": [
      "Starting iteration 0\n",
      "{'ner': 1277.6230622168216}\n",
      "Starting iteration 1\n"
     ]
    }
   ],
   "source": [
    "prdnlp_1 = train_spacy(train_data,20)"
   ]
  },
  {
   "cell_type": "code",
   "execution_count": 38,
   "metadata": {},
   "outputs": [
    {
     "data": {
      "text/plain": [
       "{'paths': {'train': None, 'dev': None, 'vectors': None, 'init_tok2vec': None},\n",
       " 'system': {'seed': 0, 'gpu_allocator': None},\n",
       " 'nlp': {'lang': 'en',\n",
       "  'pipeline': ['ner'],\n",
       "  'disabled': [],\n",
       "  'before_creation': None,\n",
       "  'after_creation': None,\n",
       "  'after_pipeline_creation': None,\n",
       "  'batch_size': 1000,\n",
       "  'tokenizer': {'@tokenizers': 'spacy.Tokenizer.v1'}},\n",
       " 'components': {'ner': {'factory': 'ner',\n",
       "   'incorrect_spans_key': None,\n",
       "   'model': {'@architectures': 'spacy.TransitionBasedParser.v2',\n",
       "    'state_type': 'ner',\n",
       "    'extra_state_tokens': False,\n",
       "    'hidden_width': 64,\n",
       "    'maxout_pieces': 2,\n",
       "    'use_upper': True,\n",
       "    'tok2vec': {'@architectures': 'spacy.HashEmbedCNN.v2',\n",
       "     'pretrained_vectors': None,\n",
       "     'width': 96,\n",
       "     'depth': 4,\n",
       "     'embed_size': 2000,\n",
       "     'window_size': 1,\n",
       "     'maxout_pieces': 3,\n",
       "     'subword_features': True},\n",
       "    'nO': None},\n",
       "   'moves': None,\n",
       "   'scorer': {'@scorers': 'spacy.ner_scorer.v1'},\n",
       "   'update_with_oracle_cut_size': 100}},\n",
       " 'corpora': {'dev': {'@readers': 'spacy.Corpus.v1',\n",
       "   'path': '${paths.dev}',\n",
       "   'gold_preproc': False,\n",
       "   'max_length': 0,\n",
       "   'limit': 0,\n",
       "   'augmenter': None},\n",
       "  'train': {'@readers': 'spacy.Corpus.v1',\n",
       "   'path': '${paths.train}',\n",
       "   'gold_preproc': False,\n",
       "   'max_length': 0,\n",
       "   'limit': 0,\n",
       "   'augmenter': None}},\n",
       " 'training': {'seed': '${system.seed}',\n",
       "  'gpu_allocator': '${system.gpu_allocator}',\n",
       "  'dropout': 0.1,\n",
       "  'accumulate_gradient': 1,\n",
       "  'patience': 1600,\n",
       "  'max_epochs': 0,\n",
       "  'max_steps': 20000,\n",
       "  'eval_frequency': 200,\n",
       "  'score_weights': {'ents_f': 1.0,\n",
       "   'ents_p': 0.0,\n",
       "   'ents_r': 0.0,\n",
       "   'ents_per_type': None},\n",
       "  'frozen_components': [],\n",
       "  'annotating_components': [],\n",
       "  'dev_corpus': 'corpora.dev',\n",
       "  'train_corpus': 'corpora.train',\n",
       "  'before_to_disk': None,\n",
       "  'batcher': {'@batchers': 'spacy.batch_by_words.v1',\n",
       "   'discard_oversize': False,\n",
       "   'tolerance': 0.2,\n",
       "   'size': {'@schedules': 'compounding.v1',\n",
       "    'start': 100,\n",
       "    'stop': 1000,\n",
       "    'compound': 1.001,\n",
       "    't': 0.0},\n",
       "   'get_length': None},\n",
       "  'logger': {'@loggers': 'spacy.ConsoleLogger.v1', 'progress_bar': False},\n",
       "  'optimizer': {'@optimizers': 'Adam.v1',\n",
       "   'beta1': 0.9,\n",
       "   'beta2': 0.999,\n",
       "   'L2_is_weight_decay': True,\n",
       "   'L2': 0.01,\n",
       "   'grad_clip': 1.0,\n",
       "   'use_averages': False,\n",
       "   'eps': 1e-08,\n",
       "   'learn_rate': 0.001}},\n",
       " 'pretraining': {},\n",
       " 'initialize': {'vectors': '${paths.vectors}',\n",
       "  'init_tok2vec': '${paths.init_tok2vec}',\n",
       "  'vocab_data': None,\n",
       "  'lookups': None,\n",
       "  'tokenizer': {},\n",
       "  'components': {},\n",
       "  'before_init': None,\n",
       "  'after_init': None}}"
      ]
     },
     "execution_count": 38,
     "metadata": {},
     "output_type": "execute_result"
    }
   ],
   "source": [
    "prdnlp.to_bytes()"
   ]
  },
  {
   "cell_type": "markdown",
   "metadata": {},
   "source": [
    "### 4. Testing the model"
   ]
  },
  {
   "cell_type": "code",
   "execution_count": 36,
   "metadata": {},
   "outputs": [
    {
     "name": "stdout",
     "output_type": "stream",
     "text": [
      "Entity:  Panasonic\n",
      "Details:  0 9 Model\n",
      "Entity:  Latitude\n",
      "Details:  10 18 Model\n",
      "Entity:  14 B5232 -\n",
      "Details:  19 29 OS\n",
      "Entity:  Solid\n",
      "Details:  30 35 Model\n",
      "Entity:  BX80621E52640)\n",
      "Details:  41 55 Model\n",
      "Entity:  160GB :\n",
      "Details:  56 63 Disk\n",
      "Entity:  Intel DVDRW | Laptop,14\n",
      "Details:  64 87 Processor\n",
      "Entity:  Laptop\n",
      "Details:  88 94 Category\n",
      "Entity:  ,\n",
      "Details:  94 95 Model\n",
      "Entity:  Kids /\n",
      "Details:  95 101 OS\n",
      "Entity:  Anodized\n",
      "Details:  102 110 Brand\n",
      "Entity:  Netbook -\n",
      "Details:  111 120 Model\n",
      "Entity:  7 8)\n",
      "Details:  121 125 Model\n"
     ]
    }
   ],
   "source": [
    "test_text = input(\"Enter your testing text: \")\n",
    "doc = prdnlp(test_text)\n",
    "\n",
    "for ent in doc.ents:\n",
    "\n",
    "    print('Entity: ',ent.text)\n",
    "    print('Details: ',ent.start_char, ent.end_char, ent.label_)"
   ]
  },
  {
   "cell_type": "code",
   "execution_count": 37,
   "metadata": {},
   "outputs": [
    {
     "name": "stdout",
     "output_type": "stream",
     "text": [
      "Entity:  Panasonic\n",
      "Details:  0 9 Model\n",
      "Entity:  Latitude\n",
      "Details:  10 18 Model\n",
      "Entity:  14 B5232 -\n",
      "Details:  19 29 Disk\n",
      "Entity:  Solid\n",
      "Details:  30 35 Model\n",
      "Entity:  Duo (\n",
      "Details:  36 41 Model\n",
      "Entity:  )\n",
      "Details:  54 55 Brand\n",
      "Entity:  160GB :\n",
      "Details:  56 63 Disk\n",
      "Entity:  Intel DVDRW |\n",
      "Details:  64 77 Processor\n",
      "Entity:  Laptop,14\n",
      "Details:  78 87 Brand\n",
      "Entity:  Laptop\n",
      "Details:  88 94 Category\n",
      "Entity:  ,Kids\n",
      "Details:  94 99 Model\n",
      "Entity:  Anodized\n",
      "Details:  102 110 Brand\n",
      "Entity:  Netbook\n",
      "Details:  111 118 Model\n",
      "Entity:  7\n",
      "Details:  121 122 Model\n"
     ]
    }
   ],
   "source": [
    "test_text = input(\"Enter your testing text: \")\n",
    "doc = prdnlp_1(test_text)\n",
    "\n",
    "for ent in doc.ents:\n",
    "\n",
    "    print('Entity: ',ent.text)\n",
    "    print('Details: ',ent.start_char, ent.end_char, ent.label_)"
   ]
  },
  {
   "cell_type": "code",
   "execution_count": null,
   "metadata": {},
   "outputs": [],
   "source": []
  }
 ],
 "metadata": {
  "kernelspec": {
   "display_name": "Python 3",
   "language": "python",
   "name": "python3"
  },
  "language_info": {
   "codemirror_mode": {
    "name": "ipython",
    "version": 3
   },
   "file_extension": ".py",
   "mimetype": "text/x-python",
   "name": "python",
   "nbconvert_exporter": "python",
   "pygments_lexer": "ipython3",
   "version": "3.9.7"
  }
 },
 "nbformat": 4,
 "nbformat_minor": 4
}
